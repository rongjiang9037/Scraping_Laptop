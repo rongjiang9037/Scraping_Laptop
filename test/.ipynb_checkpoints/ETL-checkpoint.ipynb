{
 "cells": [
  {
   "cell_type": "code",
   "execution_count": 64,
   "metadata": {},
   "outputs": [],
   "source": [
    "from urllib.request import urlopen, Request\n",
    "from bs4 import BeautifulSoup\n",
    "import psycopg2\n",
    "\n",
    "import json\n",
    "import logging\n",
    "import re\n",
    "\n",
    "# from sql_queries import *"
   ]
  },
  {
   "cell_type": "code",
   "execution_count": 5,
   "metadata": {},
   "outputs": [],
   "source": [
    "# URL for all laptops on B&H website\n",
    "theurl = 'https://www.bhphotovideo.com/c/buy/laptops/ci/18818/N/4110474292/pn/'"
   ]
  },
  {
   "cell_type": "code",
   "execution_count": 91,
   "metadata": {},
   "outputs": [],
   "source": [
    "# laptop table insert query\n",
    "laptop_table_insert = \"\"\"INSERT INTO laptop \n",
    "                        VALUES (%(name)s,\n",
    "                                %(brand)s,\n",
    "                                %(sku)s,\n",
    "                                %(price)s,\n",
    "                                %(url)s,\n",
    "                                %(availability)s,\n",
    "                                %(review_num)s)\n",
    "                            ON CONFLICT (sku)\n",
    "                            DO UPDATE SET name = excluded.name,\n",
    "                                          brand = exluded.brand,\n",
    "                                          price = excluded.price,\n",
    "                                          url = excluded.url,\n",
    "                                          availability = excluded.availability,\n",
    "                                          review_num = excluded.review_num;\n",
    "                      \"\"\""
   ]
  },
  {
   "cell_type": "code",
   "execution_count": 23,
   "metadata": {},
   "outputs": [],
   "source": [
    "def get_page_info(soup):\n",
    "    \"\"\"\n",
    "    This function page information from each page.\n",
    "    \n",
    "    input:\n",
    "    soup - beautiful soup object\n",
    "    \n",
    "    return:\n",
    "    page - page info\n",
    "    \"\"\"\n",
    "    # get all script snippets of type 'text/javascript'\n",
    "    js_info = soup.find_all(\"script\", attrs={\"type\":\"text/javascript\"})\n",
    "    \n",
    "    which_page = None\n",
    "    \n",
    "    # loop over each of them, looking for page info\n",
    "    for s in js_info:\n",
    "        try:\n",
    "            which_page = re.search('\\\"page\\\" : (\\d+),', s.text).group(1)\n",
    "            break\n",
    "        except:\n",
    "            pass\n",
    "    return int(which_page) if which_page else -1"
   ]
  },
  {
   "cell_type": "code",
   "execution_count": 29,
   "metadata": {},
   "outputs": [],
   "source": [
    "def is_last_page(soup, curr_page):\n",
    "    \"\"\"\n",
    "    Determine whether the scraped page is the last page.\n",
    "    If it's the last page, B&H will redirect scraper to page 1.\n",
    "    \n",
    "    input:\n",
    "    soup - beautiful soup object\n",
    "    curr_page - the current scraping page\n",
    "    \n",
    "    return:\n",
    "    is_last_page - True/False\n",
    "    \"\"\"\n",
    "    if curr_page != 1 and get_page_info(soup) <= 1:\n",
    "        return True\n",
    "    else:\n",
    "        return False"
   ]
  },
  {
   "cell_type": "code",
   "execution_count": 76,
   "metadata": {},
   "outputs": [],
   "source": [
    "def iter_laptop_from_page(soup):\n",
    "    \"\"\"\n",
    "    Retrieve laptop related information from the page.\n",
    "    - Product Name\n",
    "    - Product Brand\n",
    "    - Product SKU\n",
    "    - Product Price\n",
    "    - Product URL\n",
    "    - Product Availability\n",
    "    - Product # of Reviews\n",
    "    \n",
    "    input:\n",
    "    soup - beautiful soup object\n",
    "    \n",
    "    output:\n",
    "    page_info_dict - dictionary of each product\n",
    "    \"\"\"\n",
    "    # return a list of laptop info from \"itemDetail\" divs\n",
    "    products = soup.find_all('div', attrs={'data-selenium':'itemDetail'})\n",
    "    \n",
    "    for product in products:\n",
    "        try:\n",
    "            # empty dictionary\n",
    "            product_dict = {}\n",
    "\n",
    "            # get product name\n",
    "            ProductName = product.find(\"span\", attrs={'itemprop':'name'}).text.strip()\n",
    "            product_dict['name'] = ProductName\n",
    "\n",
    "            # get product brand\n",
    "            ProductBrand = product.find(\"span\", attrs={'itemprop':'brand'}).text.strip()\n",
    "            product_dict['brand'] = ProductBrand\n",
    "\n",
    "            # get product sku\n",
    "            ProductInfoDict = json.loads(product['data-itemdata'])\n",
    "            product_dict['sku'] = ProductInfoDict['sku']\n",
    "\n",
    "            # get product price\n",
    "            try: \n",
    "                product_dict['price'] = float(ProductInfoDict['price'])\n",
    "            except:\n",
    "                product_dict['price'] = None\n",
    "\n",
    "            # get product URL\n",
    "            product_dict['url'] = product.find(\"a\", attrs={\"class\":\"itemImg\"})['href']\n",
    "\n",
    "\n",
    "            # get product availability info\n",
    "            ProductAvalability = product.find(\"div\", attrs={\"data-selenium\":\"salesComments\"}).text.strip()\n",
    "            product_dict['availability'] = ProductAvalability\n",
    "\n",
    "            # get number of reviews\n",
    "            try:\n",
    "                reviews_str = product.find(\"a\", attrs={'data-selenium':'itemReviews'}).text.strip()\n",
    "                reviews_str = re.findall(re.compile(r'\\((\\d+)\\)'), 'reviews')[0]\n",
    "                reviews_int = int(reviews_str)\n",
    "            except:\n",
    "                reviews_int = 0\n",
    "            product_dict['review_num'] = reviews_int\n",
    "        \n",
    "        except:\n",
    "            logging.info('An Error Ocurred for product {}.'.format(ProductName))\n",
    "            continue\n",
    "            \n",
    "        yield product_dict\n",
    "        "
   ]
  },
  {
   "cell_type": "code",
   "execution_count": 77,
   "metadata": {},
   "outputs": [],
   "source": [
    "def iter_laptop_from_site():\n",
    "    \"\"\"\n",
    "    It's a generator function.\n",
    "    It scrapes data from URL 'https://www.bhphotovideo.com/c/buy/laptops/ci/18818/N/4110474292',\n",
    "    and return product information.\n",
    "    \n",
    "    input:\n",
    "    page_size - the number of pages in total to search on B&H laptop section\n",
    "    \n",
    "    output:\n",
    "    product_info - a dictionary contains all necessary info for one product  \n",
    "    \"\"\"\n",
    "    # B&H laptop URL\n",
    "    url = 'https://www.bhphotovideo.com/c/buy/laptops/ci/18818/N/4110474292/pn/'\n",
    "    # scrape from the first page\n",
    "    page = 1\n",
    "    \n",
    "    while True:\n",
    "        # make request for each page, get source code and parse with BeautifulSoup\n",
    "        try:\n",
    "            req = Request(url+str(page), headers = {'User-Agent':'Mozilla/5.0'})\n",
    "            thepage = urlopen(req).read()\n",
    "            page_soup = BeautifulSoup(thepage, 'html.parser')\n",
    "        except Exception as e:\n",
    "            logging.info(f\"ERROR ocurred when scraping data for page {page}.\")\n",
    "            logging.info(f\"ERROR message: {e}\")\n",
    "            break\n",
    "            \n",
    "        # if last page is reached, exit\n",
    "        if is_last_page(page_soup, page):\n",
    "            logging.info(\"Finished scraping all the data.\")\n",
    "            break\n",
    "        \n",
    "        #parse data on this page\n",
    "        product_info = iter_laptop_from_page(page_soup)\n",
    "        \n",
    "        # break loop if product_info is None\n",
    "        if not product_info:\n",
    "            break\n",
    "            \n",
    "        yield from product_info\n",
    "        \n",
    "        # move to the next page\n",
    "        page += 1\n",
    "            "
   ]
  },
  {
   "cell_type": "code",
   "execution_count": 78,
   "metadata": {},
   "outputs": [],
   "source": [
    "def process_data(cur, conn):\n",
    "    \"\"\"\n",
    "    - Scrape laptop data\n",
    "    \n",
    "    - Store it into bnhlaptop database\n",
    "    \n",
    "    input: \n",
    "    cur - cursor variable\n",
    "    conn - database connection\n",
    "    \"\"\"\n",
    "    # get all laptop info and save it as a list\n",
    "    all_laptop_iter = iter_laptop_from_site()\n",
    "    \n",
    "    # insert into laptop table in batch\n",
    "    psycopg2.extras.execute_batch(cursor, laptop_table_insert, all_laptop_iter)\n",
    "    conn.commit()\n",
    "    "
   ]
  },
  {
   "cell_type": "code",
   "execution_count": 79,
   "metadata": {},
   "outputs": [],
   "source": [
    "def main():\n",
    "    \"\"\"\n",
    "    - Connect to sparkifydb database\n",
    "    \n",
    "    - get cursor variable\n",
    "    \n",
    "    - process data stored in file path 'data/song_data' & 'data/log_data'\n",
    "    \n",
    "    - close database connection\n",
    "    \n",
    "    input: None\n",
    "    return: None\n",
    "    \"\"\"\n",
    "    # connect to database\n",
    "    conn = psycopg2.connect(host='localhost', \n",
    "                            dbname='bnhlaptop', \n",
    "                            password='test', \n",
    "                            port=5432, \n",
    "                            user='postgres')\n",
    "    cur = conn.cursor()\n",
    "    \n",
    "    # process data\n",
    "    process_data(cur, conn)\n",
    "\n",
    "    # close database connection\n",
    "    conn.close()"
   ]
  },
  {
   "cell_type": "code",
   "execution_count": 80,
   "metadata": {},
   "outputs": [],
   "source": [
    "all_laptop_iter = iter_laptop_from_site()"
   ]
  },
  {
   "cell_type": "code",
   "execution_count": 101,
   "metadata": {},
   "outputs": [
    {
     "data": {
      "text/plain": [
       "{'name': '13.3\" MacBook Pro with Retina Display (Mid 2020, Space Gray)',\n",
       " 'brand': 'Apple',\n",
       " 'sku': '1560527',\n",
       " 'price': 1399.0,\n",
       " 'url': 'https://www.bhphotovideo.com/c/product/1560527-REG/apple_mxk52ll_a_13_3_macbook_pro_with.html',\n",
       " 'availability': 'In Stock',\n",
       " 'review_num': 0}"
      ]
     },
     "execution_count": 101,
     "metadata": {},
     "output_type": "execute_result"
    }
   ],
   "source": [
    "next(all_laptop_iter)"
   ]
  },
  {
   "cell_type": "code",
   "execution_count": 92,
   "metadata": {},
   "outputs": [],
   "source": [
    "conn = psycopg2.connect(host='localhost', \n",
    "                        dbname='bnhlaptop', \n",
    "                        password='test', \n",
    "                        port=5432, \n",
    "                        user='postgres')\n",
    "cur = conn.cursor()"
   ]
  },
  {
   "cell_type": "code",
   "execution_count": 93,
   "metadata": {},
   "outputs": [
    {
     "ename": "InvalidTextRepresentation",
     "evalue": "invalid input syntax for type integer: \"16\" MacBook Pro (Late 2019, Space Gray)\"\nLINE 2:                         VALUES ('16\" MacBook Pro (Late 2019,...\n                                        ^\n",
     "output_type": "error",
     "traceback": [
      "\u001b[0;31m---------------------------------------------------------------------------\u001b[0m",
      "\u001b[0;31mInvalidTextRepresentation\u001b[0m                 Traceback (most recent call last)",
      "\u001b[0;32m<ipython-input-93-83928b14632c>\u001b[0m in \u001b[0;36m<module>\u001b[0;34m\u001b[0m\n\u001b[0;32m----> 1\u001b[0;31m \u001b[0mcur\u001b[0m\u001b[0;34m.\u001b[0m\u001b[0mexecute\u001b[0m\u001b[0;34m(\u001b[0m\u001b[0mlaptop_table_insert\u001b[0m\u001b[0;34m,\u001b[0m \u001b[0mnext\u001b[0m\u001b[0;34m(\u001b[0m\u001b[0mall_laptop_iter\u001b[0m\u001b[0;34m)\u001b[0m\u001b[0;34m)\u001b[0m\u001b[0;34m\u001b[0m\u001b[0;34m\u001b[0m\u001b[0m\n\u001b[0m",
      "\u001b[0;31mInvalidTextRepresentation\u001b[0m: invalid input syntax for type integer: \"16\" MacBook Pro (Late 2019, Space Gray)\"\nLINE 2:                         VALUES ('16\" MacBook Pro (Late 2019,...\n                                        ^\n"
     ]
    }
   ],
   "source": [
    "cur.execute(laptop_table_insert, next(all_laptop_iter))"
   ]
  },
  {
   "cell_type": "code",
   "execution_count": 102,
   "metadata": {},
   "outputs": [
    {
     "ename": "NotNullViolation",
     "evalue": "null value in column \"sku\" violates not-null constraint\nDETAIL:  Failing row contains (0, 1553853, null, null, null, null, null, null).\n",
     "output_type": "error",
     "traceback": [
      "\u001b[0;31m---------------------------------------------------------------------------\u001b[0m",
      "\u001b[0;31mNotNullViolation\u001b[0m                          Traceback (most recent call last)",
      "\u001b[0;32m<ipython-input-102-fdd8cd6a516e>\u001b[0m in \u001b[0;36m<module>\u001b[0;34m\u001b[0m\n\u001b[1;32m      9\u001b[0m                                 \u001b[0;34m%\u001b[0m\u001b[0;34m(\u001b[0m\u001b[0mreview_num\u001b[0m\u001b[0;34m)\u001b[0m\u001b[0ms\u001b[0m\u001b[0;34m,\u001b[0m\u001b[0;34m\u001b[0m\u001b[0;34m\u001b[0m\u001b[0m\n\u001b[1;32m     10\u001b[0m                                 %(sku)s);\n\u001b[0;32m---> 11\u001b[0;31m                       \"\"\", next(all_laptop_iter))\n\u001b[0m",
      "\u001b[0;31mNotNullViolation\u001b[0m: null value in column \"sku\" violates not-null constraint\nDETAIL:  Failing row contains (0, 1553853, null, null, null, null, null, null).\n"
     ]
    }
   ],
   "source": [
    "conn = psycopg2.connect(host='localhost', \n",
    "                        dbname='bnhlaptop', \n",
    "                        password='test', \n",
    "                        port=5432, \n",
    "                        user='postgres')\n",
    "cur = conn.cursor()\n",
    "cur.execute(\"\"\"INSERT INTO laptop \n",
    "                        VALUES (\n",
    "                                %(review_num)s,\n",
    "                                %(sku)s);\n",
    "                      \"\"\", next(all_laptop_iter))"
   ]
  },
  {
   "cell_type": "code",
   "execution_count": null,
   "metadata": {},
   "outputs": [],
   "source": [
    "cur.execute(\"\"\"INSERT INTO laptop \n",
    "                        VALUES (%(name)s,\n",
    "                                %(brand)s,\n",
    "                                %(sku)s,\n",
    "                                %(price)s,\n",
    "                                %(url)s,\n",
    "                                %(availability)s,\n",
    "                                %(review_num)s)\n",
    "                            ON CONFLICT (sku)\n",
    "                            DO UPDATE SET name = excluded.name,\n",
    "                                          brand = exluded.brand,\n",
    "                                          price = excluded.price,\n",
    "                                          url = excluded.url,\n",
    "                                          availability = excluded.availability,\n",
    "                                          review_num = excluded.review_num;\n",
    "                      \"\"\", next(all_laptop_iter))"
   ]
  }
 ],
 "metadata": {
  "kernelspec": {
   "display_name": "Python 3",
   "language": "python",
   "name": "python3"
  },
  "language_info": {
   "codemirror_mode": {
    "name": "ipython",
    "version": 3
   },
   "file_extension": ".py",
   "mimetype": "text/x-python",
   "name": "python",
   "nbconvert_exporter": "python",
   "pygments_lexer": "ipython3",
   "version": "3.7.6"
  }
 },
 "nbformat": 4,
 "nbformat_minor": 4
}
