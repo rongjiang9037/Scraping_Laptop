{
 "cells": [
  {
   "cell_type": "code",
   "execution_count": 1,
   "metadata": {},
   "outputs": [],
   "source": [
    "import psycopg2"
   ]
  },
  {
   "cell_type": "code",
   "execution_count": 2,
   "metadata": {},
   "outputs": [],
   "source": [
    "# drop tables\n",
    "laptop_table_drop = \"\"\"DROP TABLE IF EXISTS laptop\"\"\"\n",
    "\n",
    "drop_table_queries = [laptop_table_drop]"
   ]
  },
  {
   "cell_type": "code",
   "execution_count": 3,
   "metadata": {},
   "outputs": [],
   "source": [
    "# create tables\n",
    "laptop_table_create = \"\"\"CREATE TABLE IF NOT EXISTS laptop\n",
    "                                (   product_id SERIAL PRIMARY KEY,\n",
    "                                    name varchar not null,\n",
    "                                    brand varchar,\n",
    "                                    sku varchar not null,\n",
    "                                    price numeric,\n",
    "                                    url varchar not null,\n",
    "                                    availability varchar,\n",
    "                                    review_num int);\n",
    "                            \"\"\"\n",
    "\n",
    "create_table_queries = [laptop_table_create]"
   ]
  },
  {
   "cell_type": "code",
   "execution_count": 4,
   "metadata": {},
   "outputs": [],
   "source": [
    "def create_database():\n",
    "    \"\"\"\n",
    "    This function creates bnhlaptop database,\n",
    "    and return connection obejct and cursor variable\n",
    "    \n",
    "    input: None\n",
    "    return: None\n",
    "    \"\"\"\n",
    "    # connect to default database\n",
    "    conn = psycopg2.connect(\"host=localhost dbname=postgres password=test port=5432 user=postgres\")\n",
    "    conn.set_session(autocommit=True)\n",
    "    # get cursor variable \n",
    "    cur = conn.cursor()\n",
    "    # drop database bnhlaptop if exists\n",
    "    cur.execute(\"DROP DATABASE IF EXISTS bnhlaptop\")\n",
    "    # create new database bnhlapopt\n",
    "    cur.execute(\"\"\"CREATE DATABASE bnhlaptop \n",
    "                            WITH ENCODING 'utf8'\n",
    "                            TEMPLATE template0\"\"\")\n",
    "    # close database connection\n",
    "    conn.close()\n",
    "    \n",
    "    # connect to new database\n",
    "    conn = psycopg2.connect(\"host=localhost dbname=bnhlaptop password=test port=5432 user=postgres\")\n",
    "    cur = conn.cursor()\n",
    "    return cur, conn"
   ]
  },
  {
   "cell_type": "code",
   "execution_count": 5,
   "metadata": {},
   "outputs": [],
   "source": [
    "def drop_tables(cur, conn):\n",
    "    \"\"\"\n",
    "    Drop tables with queries from drop_table_quries list.\n",
    "    \n",
    "    input:\n",
    "    cur - cursor variable\n",
    "    conn - database connection object\n",
    "    \n",
    "    return: None\n",
    "    \"\"\"\n",
    "    # loop drop_table_queries\n",
    "    for query in drop_table_queries:\n",
    "        cur.execute(query)\n",
    "        conn.commit()\n",
    "    "
   ]
  },
  {
   "cell_type": "code",
   "execution_count": 6,
   "metadata": {},
   "outputs": [],
   "source": [
    "def create_tables(cur, conn):\n",
    "    \"\"\"\n",
    "    Create tables with quries from create_table_quries list\n",
    "    \n",
    "    input:\n",
    "    cur - cursor variable\n",
    "    conn - database connection object\n",
    "    \n",
    "    return: None\n",
    "    \"\"\"\n",
    "    # loop over create_table_queries list\n",
    "    for query in create_table_queries:\n",
    "        cur.execute(query)\n",
    "        conn.commit()\n",
    "        "
   ]
  },
  {
   "cell_type": "code",
   "execution_count": 7,
   "metadata": {
    "scrolled": true
   },
   "outputs": [
    {
     "name": "stdout",
     "output_type": "stream",
     "text": [
      "DROP TABLE IF EXISTS laptop\n"
     ]
    }
   ],
   "source": [
    "cur, conn = create_database()\n",
    "drop_tables(cur, conn)\n",
    "create_tables(cur, conn)\n",
    "conn.close()"
   ]
  },
  {
   "cell_type": "code",
   "execution_count": null,
   "metadata": {},
   "outputs": [],
   "source": []
  }
 ],
 "metadata": {
  "kernelspec": {
   "display_name": "Python 3",
   "language": "python",
   "name": "python3"
  },
  "language_info": {
   "codemirror_mode": {
    "name": "ipython",
    "version": 3
   },
   "file_extension": ".py",
   "mimetype": "text/x-python",
   "name": "python",
   "nbconvert_exporter": "python",
   "pygments_lexer": "ipython3",
   "version": "3.7.6"
  }
 },
 "nbformat": 4,
 "nbformat_minor": 4
}
